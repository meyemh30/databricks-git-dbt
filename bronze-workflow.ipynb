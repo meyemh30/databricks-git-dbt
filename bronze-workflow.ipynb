{
 "cells": [
  {
   "cell_type": "code",
   "execution_count": 0,
   "metadata": {
    "application/vnd.databricks.v1+cell": {
     "cellMetadata": {
      "byteLimit": 2048000,
      "rowLimit": 10000
     },
     "inputWidgets": {},
     "nuid": "8fc3a378-efcb-4dea-8978-91437d37b068",
     "showTitle": false,
     "tableResultSettingsMap": {
      "0": {
       "dataGridStateBlob": "{\"version\":1,\"tableState\":{\"columnPinning\":{\"left\":[\"#row_number#\"],\"right\":[]},\"columnSizing\":{\"path\":306},\"columnVisibility\":{}},\"settings\":{\"columns\":{}},\"syncTimestamp\":1752619591762}",
       "filterBlob": null,
       "queryPlanFiltersBlob": null,
       "tableResultIndex": 0
      }
     },
     "title": ""
    }
   },
   "outputs": [],
   "source": [
    "%fs ls /"
   ]
  },
  {
   "cell_type": "code",
   "execution_count": 0,
   "metadata": {
    "application/vnd.databricks.v1+cell": {
     "cellMetadata": {
      "byteLimit": 2048000,
      "rowLimit": 10000
     },
     "inputWidgets": {},
     "nuid": "6da53b83-ac71-4a34-b3e9-306c60c0584c",
     "showTitle": false,
     "tableResultSettingsMap": {},
     "title": ""
    }
   },
   "outputs": [],
   "source": [
    "# Verify the file path and load the data DDusing PySpark\n",
    "df = spark.read.format(\"csv\").option(\"header\", \"true\").load(\"dbfs:/Workspace/Users/matt.meyer3@gmail.com/databricks-git-dbt/data/diamonds.csv\")\n",
    "display(df)"
   ]
  },
  {
   "cell_type": "code",
   "execution_count": 0,
   "metadata": {
    "application/vnd.databricks.v1+cell": {
     "cellMetadata": {
      "byteLimit": 2048000,
      "implicitDf": true,
      "rowLimit": 10000
     },
     "inputWidgets": {},
     "nuid": "c8a0d0e8-9a3e-438a-a74d-0e3e451690c7",
     "showTitle": false,
     "tableResultSettingsMap": {},
     "title": ""
    }
   },
   "outputs": [],
   "source": [
    "%sql\n",
    "DROP TABLE IF EXISTS diamonds;\n",
    "\n",
    "CREATE TABLE diamonds (\n",
    "  carat DOUBLE,\n",
    "  cut STRING,\n",
    "  color STRING,\n",
    "  clarity STRING,\n",
    "  depth DOUBLE,\n",
    "  table DOUBLE,\n",
    "  price INT,\n",
    "  x DOUBLE,\n",
    "  y DOUBLE,\n",
    "  z DOUBLE\n",
    ")\n",
    "USING CSV\n",
    "OPTIONS (\n",
    "  path \"/databricks-git-dbt/data/diamonds.csv\",\n",
    "  header \"true\"\n",
    ");\n",
    "\n",
    "select * FROM diamonds"
   ]
  }
 ],
 "metadata": {
  "application/vnd.databricks.v1+notebook": {
   "computePreferences": null,
   "dashboards": [],
   "environmentMetadata": {
    "base_environment": "",
    "environment_version": "2"
   },
   "inputWidgetPreferences": null,
   "language": "python",
   "notebookMetadata": {
    "mostRecentlyExecutedCommandWithImplicitDF": {
     "commandId": 7074032568355073,
     "dataframes": [
      "_sqldf"
     ]
    },
    "pythonIndentUnit": 4
   },
   "notebookName": "bronze-workflow",
   "widgets": {}
  },
  "language_info": {
   "name": "python"
  }
 },
 "nbformat": 4,
 "nbformat_minor": 0
}
